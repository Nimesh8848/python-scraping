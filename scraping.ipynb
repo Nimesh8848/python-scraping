{
 "cells": [
  {
   "cell_type": "code",
   "execution_count": 1,
   "metadata": {},
   "outputs": [],
   "source": [
    "from bs4 import BeautifulSoup\n",
    "import requests"
   ]
  },
  {
   "cell_type": "code",
   "execution_count": null,
   "metadata": {},
   "outputs": [
    {
     "name": "stdout",
     "output_type": "stream",
     "text": [
      "Apple AirPods Max Wireless Over-Ear Headphones, Pro-Level Active Noise Cancellation, Transparency Mode, Personalised Spatial Audio, USB-C Charging, Bluetooth Headphones for iPhone - Starlight\n",
      "59,900.\n",
      "3.8  3.8 out of 5 stars\n",
      "ULTIMATE OVER-EAR LISTENING EXPERIENCE — Apple-designed dynamic driver provides high-fidelity audio. Computational audio combines custom acoustic design with the Apple H1 chip and software for breakthrough listening experiences.    FIVE FRESH COLOURS — AirPods Max come in five fresh colours: Midnight, Starlight, Blue, Purple and Orange. A colour-matched Smart Case is also included.    FOCUS ON WHAT’S PLAYING — Pro-level Active Noise Cancellation removes up to 2x more background noise, so you can immerse yourself in music.    HEAR THE WORLD AROUND YOU — Transparency mode lets you comfortably hear and interact with the world around you.    PERSONALISED SPATIAL AUDIO — With sound that suits your unique ear shape along with dynamic head tracking, AirPods Max deliver an immersive listening experience that places sound all around you. You can also listen to selected songs, shows and movies in Dolby Atmos.    ACOUSTIC-FIRST DESIGN — Designed with a knit-mesh canopy and memory foam ear cushions for an exceptional over-ear fit that perfectly seals in sound.    MAGICAL EXPERIENCE — Pair AirPods Max by simply placing them near your device and tapping Connect on your screen.* AirPods Max pause audio when you take them off. And Automatic Switching makes listening between your iPhone, iPad and Mac completely effortless.*\n",
      "Product desc not found. Amazon might be blocking your request or returning a different page.\n"
     ]
    }
   ],
   "source": [
    "url=\"https://www.amazon.in/Apple-Headphones-Cancellation-Transparency-Personalised/dp/B0DGJ7S59D/ref=sr_1_4?crid=RBARZ970AYJI&dib=eyJ2IjoiMSJ9.y08pMqaeTlUXGU64oyMGlx8v2Sx78yzGgsFfSLyufaCZhsU6s-KsHLVTWzO21l030BNAPdSwF1uvk-xP2xiYHOrOsuJoyUXTbtnLlKohg0PDfeDV2ow3KJTID02CZHFHe8BElHxz0Qx9AFS7cgOtkIB0SiGqovUlX53vpFMVfDlFCxKDYYyYS0xwojJ1zvN8J-uZuRvzI8Bf-RrBv58giQ5qGy-67sptz4v75mHE4Wo.tSxthxJx5H1i4-8rVzEb4sSrmXDaiOyiNDov_Gs8y5U&dib_tag=se&keywords=apple%2Bairpods%2Bpro%2Bmax&nsdOptOutParam=true&qid=1736429886&sprefix=%2Caps%2C209&sr=8-4&th=1\"\n",
    "headers = {\"User-Agent\":\"Mozilla/5.0 (Windows NT 10.0; Win64; x64) AppleWebKit/537.36 (KHTML, like Gecko) Chrome/131.0.0.0 Safari/537.36\"}\n",
    "response = requests.get(url, headers=headers)\n",
    "if(response.status_code == 200):\n",
    "    # print(response.status_code)\n",
    "    html_content = response.text\n",
    "else:\n",
    "    print(\"Error\")\n",
    "\n",
    "if response.status_code == 200:\n",
    "    html_content = response.text\n",
    "    soup = BeautifulSoup(html_content, 'lxml')\n",
    "\n",
    "    product_title = soup.find(\"span\", id=\"productTitle\")\n",
    "    if product_title:\n",
    "        print(product_title.text.strip())\n",
    "    else:\n",
    "        print(\"Product title not found. Amazon might be blocking your request or returning a different page.\")\n",
    "else:\n",
    "    print(f\"Error: Unable to fetch the webpage. Status code: {response.status_code}\")\n",
    "\n",
    "if response.status_code == 200:\n",
    "    html_content = response.text\n",
    "    soup = BeautifulSoup(html_content, 'lxml')\n",
    "\n",
    "    product_price = soup.find(\"span\",class_=\"a-price-whole\")\n",
    "    if product_price:\n",
    "        print(product_price.text.strip())\n",
    "    else:\n",
    "        print(\"Product price not found. Amazon might be blocking your request or returning a different page.\")\n",
    "else:\n",
    "    print(f\"Error: Unable to fetch the webpage. Status code: {response.status_code}\")\n",
    "\n",
    "if response.status_code == 200:\n",
    "    html_content = response.text\n",
    "    soup = BeautifulSoup(html_content, 'lxml')\n",
    "\n",
    "    product_rating = soup.find(\"span\",id=\"acrPopover\")\n",
    "    if product_rating:\n",
    "        print(product_rating.text.strip())\n",
    "    else:\n",
    "        print(\"Product rating not found. Amazon might be blocking your request or returning a different page.\")\n",
    "else:\n",
    "    print(f\"Error: Unable to fetch the webpage. Status code: {response.status_code}\")\n",
    "\n",
    "if response.status_code == 200:\n",
    "    html_content = response.text\n",
    "    soup = BeautifulSoup(html_content, 'lxml')\n",
    "\n",
    "    product_bp = soup.find(\"ul\",class_=\"a-unordered-list a-vertical a-spacing-mini\")\n",
    "    if product_bp:\n",
    "        print(product_bp.text.strip())\n",
    "    else:\n",
    "        print(\"Product bp not found. Amazon might be blocking your request or returning a different page.\")\n",
    "\n",
    "if response.status_code == 200:\n",
    "    html_content = response.text\n",
    "    soup = BeautifulSoup(html_content, 'lxml')\n",
    "\n",
    "    product_desc = soup.find(\"div\",id=\"productDescription\")\n",
    "    if product_desc:\n",
    "        print(product_desc.text.strip())\n",
    "    else:\n",
    "        print(\"Product desc not found. Amazon might be blocking your request or returning a different page.\")\n",
    "\n",
    "if response.status_code == 200:\n",
    "    html_content = response.text\n",
    "    soup = BeautifulSoup(html_content, 'lxml')\n",
    "\n",
    "    product_reviews = soup.find(\"ul\",id=\"cm-cr-dp-review-list\")\n",
    "    if product_reviews:\n",
    "        print(product_reviews.text.strip())\n",
    "    else:\n",
    "        print(\"Product reviews not found. Amazon might be blocking your request or returning a different page.\")\n"
   ]
  }
 ],
 "metadata": {
  "kernelspec": {
   "display_name": "base",
   "language": "python",
   "name": "python3"
  },
  "language_info": {
   "codemirror_mode": {
    "name": "ipython",
    "version": 3
   },
   "file_extension": ".py",
   "mimetype": "text/x-python",
   "name": "python",
   "nbconvert_exporter": "python",
   "pygments_lexer": "ipython3",
   "version": "3.12.7"
  }
 },
 "nbformat": 4,
 "nbformat_minor": 2
}
